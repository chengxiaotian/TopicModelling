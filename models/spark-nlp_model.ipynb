{
 "cells": [
  {
   "cell_type": "code",
   "execution_count": 5,
   "metadata": {},
   "outputs": [],
   "source": [
    "import findspark as fs\n",
    "fs.init()"
   ]
  },
  {
   "cell_type": "code",
   "execution_count": 13,
   "metadata": {},
   "outputs": [],
   "source": [
    "import os\n",
    "os.environ[\"JAVA_HOME\"]=\"C:\\Java\\jdk1.8.0_241\""
   ]
  },
  {
   "cell_type": "code",
   "execution_count": 14,
   "metadata": {
    "scrolled": true
   },
   "outputs": [
    {
     "name": "stdout",
     "output_type": "stream",
     "text": [
      "recognize_entities_dl download started this may take some time.\n",
      "Approx size to download 159 MB\n",
      "[OK!]\n",
      "['Harry Potter']\n"
     ]
    }
   ],
   "source": [
    "import sparknlp \n",
    "\n",
    "spark = sparknlp.start()\n",
    "\n",
    "\n",
    "# from sparknlp.pretrained import PretrainedPipeline\n",
    "# pipeline = PretrainedPipeline('recognize_entities_dl', 'en')\n",
    "# result = pipeline.annotate('Harry Potter is a great movie')\n",
    "# print(result['entities']) "
   ]
  },
  {
   "cell_type": "code",
   "execution_count": 17,
   "metadata": {},
   "outputs": [],
   "source": [
    "import pyspark\n",
    "from pyspark.sql.functions import col,when,size,min, max,length\n",
    "from pyspark.sql import SparkSession"
   ]
  },
  {
   "cell_type": "code",
   "execution_count": 18,
   "metadata": {},
   "outputs": [],
   "source": [
    "spark = SparkSession.builder \\\n",
    "    .master('local[*]')\\\n",
    "    .appName('topic_modelling')\\\n",
    "    .config(\"spark.jars.packages\", \"com.johnsnowlabs.nlp:spark-nlp_2.11:2.4.5\")\\\n",
    "    .getOrCreate()"
   ]
  },
  {
   "cell_type": "code",
   "execution_count": 19,
   "metadata": {},
   "outputs": [],
   "source": [
    "df_parquet = spark.read.parquet(\"part-00000-a8a717e8-bf83-42e3-a0b7-084971053d99-c000.snappy.parquet\")"
   ]
  },
  {
   "cell_type": "code",
   "execution_count": 20,
   "metadata": {},
   "outputs": [
    {
     "data": {
      "text/plain": [
       "'en'"
      ]
     },
     "execution_count": 20,
     "metadata": {},
     "output_type": "execute_result"
    }
   ],
   "source": [
    "# create a column and put in the detected language code\n",
    "from langdetect import detect\n",
    "getCode = lambda x:detect(x)\n",
    "sent = \"this is eng\"\n",
    "getCode(sent)"
   ]
  },
  {
   "cell_type": "code",
   "execution_count": 21,
   "metadata": {},
   "outputs": [
    {
     "data": {
      "text/html": [
       "<div>\n",
       "<style scoped>\n",
       "    .dataframe tbody tr th:only-of-type {\n",
       "        vertical-align: middle;\n",
       "    }\n",
       "\n",
       "    .dataframe tbody tr th {\n",
       "        vertical-align: top;\n",
       "    }\n",
       "\n",
       "    .dataframe thead th {\n",
       "        text-align: right;\n",
       "    }\n",
       "</style>\n",
       "<table border=\"1\" class=\"dataframe\">\n",
       "  <thead>\n",
       "    <tr style=\"text-align: right;\">\n",
       "      <th></th>\n",
       "      <th>app_name</th>\n",
       "      <th>bundle</th>\n",
       "      <th>description</th>\n",
       "      <th>genres</th>\n",
       "      <th>os_platform</th>\n",
       "      <th>lang_code</th>\n",
       "    </tr>\n",
       "  </thead>\n",
       "  <tbody>\n",
       "    <tr>\n",
       "      <th>0</th>\n",
       "      <td>Black Box - Movie Listing</td>\n",
       "      <td>958957112</td>\n",
       "      <td>Black Box Movie Listing App is a collection li...</td>\n",
       "      <td>[Entertainment, Magazines &amp; Newspapers]</td>\n",
       "      <td>IOS</td>\n",
       "      <td>en</td>\n",
       "    </tr>\n",
       "    <tr>\n",
       "      <th>1</th>\n",
       "      <td>Knife Throwing Max</td>\n",
       "      <td>1491396285</td>\n",
       "      <td>you will have fun in this game\\n100+ challengi...</td>\n",
       "      <td>[Games_Sports, Games_Role Playing]</td>\n",
       "      <td>IOS</td>\n",
       "      <td>en</td>\n",
       "    </tr>\n",
       "    <tr>\n",
       "      <th>2</th>\n",
       "      <td>爆料公社</td>\n",
       "      <td>1387765782</td>\n",
       "      <td>全台最大社群「爆料公社」APP 上線啦，我們把社群解放了，不只有勁爆的爆料內容，還貼心的加上...</td>\n",
       "      <td>[Social Networking]</td>\n",
       "      <td>IOS</td>\n",
       "      <td>zh-tw</td>\n",
       "    </tr>\n",
       "    <tr>\n",
       "      <th>3</th>\n",
       "      <td>Lidow - Photo Editor &amp; Collage</td>\n",
       "      <td>894532288</td>\n",
       "      <td>layout/grid/collage、Square/no crop for instagr...</td>\n",
       "      <td>[Photo &amp; Video]</td>\n",
       "      <td>IOS</td>\n",
       "      <td>en</td>\n",
       "    </tr>\n",
       "    <tr>\n",
       "      <th>4</th>\n",
       "      <td>Vidstitch Frames for Instagram</td>\n",
       "      <td>712908978</td>\n",
       "      <td>■ #Vidstitch\\n■ Featured on 148apps, Stelapps,...</td>\n",
       "      <td>[Photo &amp; Video, Social Networking]</td>\n",
       "      <td>IOS</td>\n",
       "      <td>en</td>\n",
       "    </tr>\n",
       "    <tr>\n",
       "      <th>...</th>\n",
       "      <td>...</td>\n",
       "      <td>...</td>\n",
       "      <td>...</td>\n",
       "      <td>...</td>\n",
       "      <td>...</td>\n",
       "      <td>...</td>\n",
       "    </tr>\n",
       "    <tr>\n",
       "      <th>860</th>\n",
       "      <td>Barber Hair Salon &amp; Beard Makeover</td>\n",
       "      <td>com.hmg.haircutgames.beardsalon.barberhaircut</td>\n",
       "      <td>Barber hair makeover salon game is for those w...</td>\n",
       "      <td>[ENTERTAINMENT, FAMILY_PRETEND]</td>\n",
       "      <td>ANDROID</td>\n",
       "      <td>en</td>\n",
       "    </tr>\n",
       "    <tr>\n",
       "      <th>861</th>\n",
       "      <td>DJ Remix Offline 2020</td>\n",
       "      <td>com.mpro.djremixoffline2020</td>\n",
       "      <td>Dj Remix Offline 2020 Mp3 merupakan aplikasi m...</td>\n",
       "      <td>[MUSIC_AND_AUDIO]</td>\n",
       "      <td>ANDROID</td>\n",
       "      <td>id</td>\n",
       "    </tr>\n",
       "    <tr>\n",
       "      <th>862</th>\n",
       "      <td>Sahih Bukhari (English)</td>\n",
       "      <td>com.bangladroid.sahihbukhari</td>\n",
       "      <td>We have made this application from the book of...</td>\n",
       "      <td>[BOOKS_AND_REFERENCE]</td>\n",
       "      <td>ANDROID</td>\n",
       "      <td>en</td>\n",
       "    </tr>\n",
       "    <tr>\n",
       "      <th>863</th>\n",
       "      <td>Two Minute English</td>\n",
       "      <td>com.astrobix.twominuteenglish</td>\n",
       "      <td>Improve your spoken English rapidly with the h...</td>\n",
       "      <td>[EDUCATION]</td>\n",
       "      <td>ANDROID</td>\n",
       "      <td>en</td>\n",
       "    </tr>\n",
       "    <tr>\n",
       "      <th>864</th>\n",
       "      <td>Galaxy S9 purple Theme</td>\n",
       "      <td>com.thegosa.s9purplefreetheme</td>\n",
       "      <td>Now this application is a full theme for all s...</td>\n",
       "      <td>[PERSONALIZATION]</td>\n",
       "      <td>ANDROID</td>\n",
       "      <td>en</td>\n",
       "    </tr>\n",
       "  </tbody>\n",
       "</table>\n",
       "<p>865 rows × 6 columns</p>\n",
       "</div>"
      ],
      "text/plain": [
       "                               app_name  \\\n",
       "0             Black Box - Movie Listing   \n",
       "1                    Knife Throwing Max   \n",
       "2                                  爆料公社   \n",
       "3        Lidow - Photo Editor & Collage   \n",
       "4        Vidstitch Frames for Instagram   \n",
       "..                                  ...   \n",
       "860  Barber Hair Salon & Beard Makeover   \n",
       "861               DJ Remix Offline 2020   \n",
       "862             Sahih Bukhari (English)   \n",
       "863                  Two Minute English   \n",
       "864              Galaxy S9 purple Theme   \n",
       "\n",
       "                                            bundle  \\\n",
       "0                                        958957112   \n",
       "1                                       1491396285   \n",
       "2                                       1387765782   \n",
       "3                                        894532288   \n",
       "4                                        712908978   \n",
       "..                                             ...   \n",
       "860  com.hmg.haircutgames.beardsalon.barberhaircut   \n",
       "861                    com.mpro.djremixoffline2020   \n",
       "862                   com.bangladroid.sahihbukhari   \n",
       "863                  com.astrobix.twominuteenglish   \n",
       "864                  com.thegosa.s9purplefreetheme   \n",
       "\n",
       "                                           description  \\\n",
       "0    Black Box Movie Listing App is a collection li...   \n",
       "1    you will have fun in this game\\n100+ challengi...   \n",
       "2    全台最大社群「爆料公社」APP 上線啦，我們把社群解放了，不只有勁爆的爆料內容，還貼心的加上...   \n",
       "3    layout/grid/collage、Square/no crop for instagr...   \n",
       "4    ■ #Vidstitch\\n■ Featured on 148apps, Stelapps,...   \n",
       "..                                                 ...   \n",
       "860  Barber hair makeover salon game is for those w...   \n",
       "861  Dj Remix Offline 2020 Mp3 merupakan aplikasi m...   \n",
       "862  We have made this application from the book of...   \n",
       "863  Improve your spoken English rapidly with the h...   \n",
       "864  Now this application is a full theme for all s...   \n",
       "\n",
       "                                      genres os_platform lang_code  \n",
       "0    [Entertainment, Magazines & Newspapers]         IOS        en  \n",
       "1         [Games_Sports, Games_Role Playing]         IOS        en  \n",
       "2                        [Social Networking]         IOS     zh-tw  \n",
       "3                            [Photo & Video]         IOS        en  \n",
       "4         [Photo & Video, Social Networking]         IOS        en  \n",
       "..                                       ...         ...       ...  \n",
       "860          [ENTERTAINMENT, FAMILY_PRETEND]     ANDROID        en  \n",
       "861                        [MUSIC_AND_AUDIO]     ANDROID        id  \n",
       "862                    [BOOKS_AND_REFERENCE]     ANDROID        en  \n",
       "863                              [EDUCATION]     ANDROID        en  \n",
       "864                        [PERSONALIZATION]     ANDROID        en  \n",
       "\n",
       "[865 rows x 6 columns]"
      ]
     },
     "execution_count": 21,
     "metadata": {},
     "output_type": "execute_result"
    }
   ],
   "source": [
    "# easier method to convert to pandas then apply then function\n",
    "df_parquet_pd = df_parquet.toPandas()\n",
    "df_parquet_pd['lang_code'] = df_parquet_pd['description'].apply(getCode)\n",
    "df_parquet_pd"
   ]
  },
  {
   "cell_type": "code",
   "execution_count": 22,
   "metadata": {},
   "outputs": [
    {
     "data": {
      "text/plain": [
       "(686, 6)"
      ]
     },
     "execution_count": 22,
     "metadata": {},
     "output_type": "execute_result"
    }
   ],
   "source": [
    "# load with only English data\n",
    "df_parquet_en = df_parquet_pd.loc[df_parquet_pd['lang_code']=='en']\n",
    "df_parquet_en.shape"
   ]
  },
  {
   "cell_type": "code",
   "execution_count": 24,
   "metadata": {},
   "outputs": [],
   "source": [
    "df_spark = spark.createDataFrame(df_parquet_en)"
   ]
  },
  {
   "cell_type": "code",
   "execution_count": 25,
   "metadata": {},
   "outputs": [
    {
     "name": "stdout",
     "output_type": "stream",
     "text": [
      "+--------------------+--------------------+--------------------+--------------------+-----------+---------+--------------------+\n",
      "|            app_name|              bundle|         description|              genres|os_platform|lang_code|   description_clean|\n",
      "+--------------------+--------------------+--------------------+--------------------+-----------+---------+--------------------+\n",
      "|Black Box - Movie...|           958957112|Black Box Movie L...|[Entertainment, M...|        IOS|       en|Black Box Movie L...|\n",
      "|  Knife Throwing Max|          1491396285|you will have fun...|[Games_Sports, Ga...|        IOS|       en|you will have fun...|\n",
      "|Lidow - Photo Edi...|           894532288|layout/grid/colla...|     [Photo & Video]|        IOS|       en|layout grid colla...|\n",
      "|Vidstitch Frames ...|           712908978|■ #Vidstitch\n",
      "■ Fe...|[Photo & Video, S...|        IOS|       en|■  Vidstitch\n",
      "■ Fe...|\n",
      "|Where's my Cat? -...|          1259238703|The cat is hiding...|[Entertainment, G...|        IOS|       en|The cat is hiding...|\n",
      "|Martial Art Wallp...|com.martialart.wa...|Martial arts are ...|   [PERSONALIZATION]|    ANDROID|       en|Martial arts are ...|\n",
      "|      Image detector|com.saryelgmal.se...|Google image sear...|             [TOOLS]|    ANDROID|       en|Google image sear...|\n",
      "|Horoscope - Face ...|com.ocean.horosco...|Your face reveals...|         [LIFESTYLE]|    ANDROID|       en|Your face reveals...|\n",
      "|Neon Pastel Heart...|com.ikeyboard.the...|💌\n",
      "Neon Pastel He...|   [PERSONALIZATION]|    ANDROID|       en|💌\n",
      "Neon Pastel He...|\n",
      "|Arabic Voice Typi...|com.worthy.apps.a...|⭕ Arabic Voice Ke...|             [TOOLS]|    ANDROID|       en|⭕ Arabic Voice Ke...|\n",
      "|Document Scanner ...|   com.cv.docscanner|Sometimes in a si...|      [PRODUCTIVITY]|    ANDROID|       en|Sometimes in a si...|\n",
      "|Vob To Mp4 Video ...|    grant.vob.to.mp4|Easy to use tool ...|     [VIDEO_PLAYERS]|    ANDROID|       en|Easy to use tool ...|\n",
      "|satfinder, Tv Sat...|com.afnan.satfind...|Finding a TV sate...|             [TOOLS]|    ANDROID|       en|Finding a TV sate...|\n",
      "|Chat with sasha &...|   com.sasha.maxchat|If you are a grea...|   [GAME_SIMULATION]|    ANDROID|       en|If you are a grea...|\n",
      "|             Chess 2|com.onecwireless....|Play new, easy to...|        [GAME_BOARD]|    ANDROID|       en|Play new  easy to...|\n",
      "|Merge Airplane Id...|com.pf.idleplane....|Click, merge & de...|   [GAME_SIMULATION]|    ANDROID|       en|Click  merge   de...|\n",
      "|Date-me - Free Da...|  com.dateme.android|Date-me gets you ...|            [SOCIAL]|    ANDROID|       en|Date me gets you ...|\n",
      "|Software Engineering|com.faadooenginee...|The app is a comp...|         [EDUCATION]|    ANDROID|       en|The app is a comp...|\n",
      "|Multi FB - Multi ...|multiple.accounts...|Want to login mul...|            [SOCIAL]|    ANDROID|       en|Want to login mul...|\n",
      "|Walktrough: Resid...|com.guideforresid...|Informations, Tip...|         [EDUCATION]|    ANDROID|       en|Informations  Tip...|\n",
      "+--------------------+--------------------+--------------------+--------------------+-----------+---------+--------------------+\n",
      "only showing top 20 rows\n",
      "\n"
     ]
    }
   ],
   "source": [
    "# Step 1. Text cleasing with punctuations\n",
    "from pyspark.sql.functions import regexp_replace\n",
    "REGEX = '[_,\\\\-.!?@#$%^&*+/\\d]'\n",
    "df_spark = df_spark.withColumn(\"description_clean\",regexp_replace(df_spark.description,REGEX,' '))\n",
    "df_spark.show()"
   ]
  },
  {
   "cell_type": "code",
   "execution_count": 28,
   "metadata": {},
   "outputs": [],
   "source": [
    "from nltk.stem.porter import *\n",
    "# Instantiate stemmer object\n",
    "stemmer = PorterStemmer()\n",
    "\n",
    "# Quick test of the stemming function\n",
    "tokens = [\"thanks\", \"its\", \"proverbially\", \"unexpected\", \"running\"]\n",
    "for t in tokens:\n",
    "  print(stemmer.stem(t))"
   ]
  },
  {
   "cell_type": "code",
   "execution_count": 16,
   "metadata": {},
   "outputs": [
    {
     "data": {
      "text/plain": [
       "Stemmer_05ee9bbfb2e7"
      ]
     },
     "execution_count": 16,
     "metadata": {},
     "output_type": "execute_result"
    }
   ],
   "source": [
    "import sparknlp\n",
    "from sparknlp.annotator import *\n",
    "from sparknlp.common import *\n",
    "from sparknlp.base import *\n",
    "\n",
    "from pyspark.ml import Pipeline\n",
    "\n",
    "stemmer = Stemmer()\n",
    "stemmer.setInputCols([\"description_clean\"]).setOutputCol(\"description_stem\")"
   ]
  },
  {
   "cell_type": "code",
   "execution_count": 27,
   "metadata": {},
   "outputs": [
    {
     "ename": "IllegalArgumentException",
     "evalue": "\"requirement failed: Wrong or missing inputCols annotators in Stemmer_05ee9bbfb2e7.\\n\\nCurrent inputCols: description_clean. Dataset's columns:\\n(column_name=app_name,is_nlp_annotator=false)\\n(column_name=bundle,is_nlp_annotator=false)\\n(column_name=description,is_nlp_annotator=false)\\n(column_name=genres,is_nlp_annotator=false)\\n(column_name=os_platform,is_nlp_annotator=false)\\n(column_name=lang_code,is_nlp_annotator=false)\\n(column_name=description_clean,is_nlp_annotator=false).\\nMake sure such annotators exist in your pipeline, with the right output names and that they have following annotator types: token\"",
     "output_type": "error",
     "traceback": [
      "\u001b[1;31m---------------------------------------------------------------------------\u001b[0m",
      "\u001b[1;31mPy4JJavaError\u001b[0m                             Traceback (most recent call last)",
      "\u001b[1;32m~\\anaconda3\\lib\\site-packages\\pyspark\\sql\\utils.py\u001b[0m in \u001b[0;36mdeco\u001b[1;34m(*a, **kw)\u001b[0m\n\u001b[0;32m     62\u001b[0m         \u001b[1;32mtry\u001b[0m\u001b[1;33m:\u001b[0m\u001b[1;33m\u001b[0m\u001b[1;33m\u001b[0m\u001b[0m\n\u001b[1;32m---> 63\u001b[1;33m             \u001b[1;32mreturn\u001b[0m \u001b[0mf\u001b[0m\u001b[1;33m(\u001b[0m\u001b[1;33m*\u001b[0m\u001b[0ma\u001b[0m\u001b[1;33m,\u001b[0m \u001b[1;33m**\u001b[0m\u001b[0mkw\u001b[0m\u001b[1;33m)\u001b[0m\u001b[1;33m\u001b[0m\u001b[1;33m\u001b[0m\u001b[0m\n\u001b[0m\u001b[0;32m     64\u001b[0m         \u001b[1;32mexcept\u001b[0m \u001b[0mpy4j\u001b[0m\u001b[1;33m.\u001b[0m\u001b[0mprotocol\u001b[0m\u001b[1;33m.\u001b[0m\u001b[0mPy4JJavaError\u001b[0m \u001b[1;32mas\u001b[0m \u001b[0me\u001b[0m\u001b[1;33m:\u001b[0m\u001b[1;33m\u001b[0m\u001b[1;33m\u001b[0m\u001b[0m\n",
      "\u001b[1;32m~\\anaconda3\\lib\\site-packages\\py4j\\protocol.py\u001b[0m in \u001b[0;36mget_return_value\u001b[1;34m(answer, gateway_client, target_id, name)\u001b[0m\n\u001b[0;32m    327\u001b[0m                     \u001b[1;34m\"An error occurred while calling {0}{1}{2}.\\n\"\u001b[0m\u001b[1;33m.\u001b[0m\u001b[1;33m\u001b[0m\u001b[1;33m\u001b[0m\u001b[0m\n\u001b[1;32m--> 328\u001b[1;33m                     format(target_id, \".\", name), value)\n\u001b[0m\u001b[0;32m    329\u001b[0m             \u001b[1;32melse\u001b[0m\u001b[1;33m:\u001b[0m\u001b[1;33m\u001b[0m\u001b[1;33m\u001b[0m\u001b[0m\n",
      "\u001b[1;31mPy4JJavaError\u001b[0m: An error occurred while calling o447.transform.\n: java.lang.IllegalArgumentException: requirement failed: Wrong or missing inputCols annotators in Stemmer_05ee9bbfb2e7.\n\nCurrent inputCols: description_clean. Dataset's columns:\n(column_name=app_name,is_nlp_annotator=false)\n(column_name=bundle,is_nlp_annotator=false)\n(column_name=description,is_nlp_annotator=false)\n(column_name=genres,is_nlp_annotator=false)\n(column_name=os_platform,is_nlp_annotator=false)\n(column_name=lang_code,is_nlp_annotator=false)\n(column_name=description_clean,is_nlp_annotator=false).\nMake sure such annotators exist in your pipeline, with the right output names and that they have following annotator types: token\r\n\tat scala.Predef$.require(Predef.scala:224)\r\n\tat com.johnsnowlabs.nlp.AnnotatorModel._transform(AnnotatorModel.scala:43)\r\n\tat com.johnsnowlabs.nlp.AnnotatorModel.transform(AnnotatorModel.scala:79)\r\n\tat sun.reflect.NativeMethodAccessorImpl.invoke0(Native Method)\r\n\tat sun.reflect.NativeMethodAccessorImpl.invoke(NativeMethodAccessorImpl.java:62)\r\n\tat sun.reflect.DelegatingMethodAccessorImpl.invoke(DelegatingMethodAccessorImpl.java:43)\r\n\tat java.lang.reflect.Method.invoke(Method.java:498)\r\n\tat py4j.reflection.MethodInvoker.invoke(MethodInvoker.java:244)\r\n\tat py4j.reflection.ReflectionEngine.invoke(ReflectionEngine.java:357)\r\n\tat py4j.Gateway.invoke(Gateway.java:282)\r\n\tat py4j.commands.AbstractCommand.invokeMethod(AbstractCommand.java:132)\r\n\tat py4j.commands.CallCommand.execute(CallCommand.java:79)\r\n\tat py4j.GatewayConnection.run(GatewayConnection.java:238)\r\n\tat java.lang.Thread.run(Thread.java:748)\r\n",
      "\nDuring handling of the above exception, another exception occurred:\n",
      "\u001b[1;31mIllegalArgumentException\u001b[0m                  Traceback (most recent call last)",
      "\u001b[1;32m<ipython-input-27-b5fc84c8da47>\u001b[0m in \u001b[0;36m<module>\u001b[1;34m\u001b[0m\n\u001b[1;32m----> 1\u001b[1;33m \u001b[0mdf_spark\u001b[0m \u001b[1;33m=\u001b[0m \u001b[0mstemmer\u001b[0m\u001b[1;33m.\u001b[0m\u001b[0mtransform\u001b[0m\u001b[1;33m(\u001b[0m\u001b[0mdf_spark\u001b[0m\u001b[1;33m)\u001b[0m\u001b[1;33m\u001b[0m\u001b[1;33m\u001b[0m\u001b[0m\n\u001b[0m",
      "\u001b[1;32m~\\anaconda3\\lib\\site-packages\\pyspark\\ml\\base.py\u001b[0m in \u001b[0;36mtransform\u001b[1;34m(self, dataset, params)\u001b[0m\n\u001b[0;32m    171\u001b[0m                 \u001b[1;32mreturn\u001b[0m \u001b[0mself\u001b[0m\u001b[1;33m.\u001b[0m\u001b[0mcopy\u001b[0m\u001b[1;33m(\u001b[0m\u001b[0mparams\u001b[0m\u001b[1;33m)\u001b[0m\u001b[1;33m.\u001b[0m\u001b[0m_transform\u001b[0m\u001b[1;33m(\u001b[0m\u001b[0mdataset\u001b[0m\u001b[1;33m)\u001b[0m\u001b[1;33m\u001b[0m\u001b[1;33m\u001b[0m\u001b[0m\n\u001b[0;32m    172\u001b[0m             \u001b[1;32melse\u001b[0m\u001b[1;33m:\u001b[0m\u001b[1;33m\u001b[0m\u001b[1;33m\u001b[0m\u001b[0m\n\u001b[1;32m--> 173\u001b[1;33m                 \u001b[1;32mreturn\u001b[0m \u001b[0mself\u001b[0m\u001b[1;33m.\u001b[0m\u001b[0m_transform\u001b[0m\u001b[1;33m(\u001b[0m\u001b[0mdataset\u001b[0m\u001b[1;33m)\u001b[0m\u001b[1;33m\u001b[0m\u001b[1;33m\u001b[0m\u001b[0m\n\u001b[0m\u001b[0;32m    174\u001b[0m         \u001b[1;32melse\u001b[0m\u001b[1;33m:\u001b[0m\u001b[1;33m\u001b[0m\u001b[1;33m\u001b[0m\u001b[0m\n\u001b[0;32m    175\u001b[0m             \u001b[1;32mraise\u001b[0m \u001b[0mValueError\u001b[0m\u001b[1;33m(\u001b[0m\u001b[1;34m\"Params must be a param map but got %s.\"\u001b[0m \u001b[1;33m%\u001b[0m \u001b[0mtype\u001b[0m\u001b[1;33m(\u001b[0m\u001b[0mparams\u001b[0m\u001b[1;33m)\u001b[0m\u001b[1;33m)\u001b[0m\u001b[1;33m\u001b[0m\u001b[1;33m\u001b[0m\u001b[0m\n",
      "\u001b[1;32m~\\anaconda3\\lib\\site-packages\\pyspark\\ml\\wrapper.py\u001b[0m in \u001b[0;36m_transform\u001b[1;34m(self, dataset)\u001b[0m\n\u001b[0;32m    310\u001b[0m     \u001b[1;32mdef\u001b[0m \u001b[0m_transform\u001b[0m\u001b[1;33m(\u001b[0m\u001b[0mself\u001b[0m\u001b[1;33m,\u001b[0m \u001b[0mdataset\u001b[0m\u001b[1;33m)\u001b[0m\u001b[1;33m:\u001b[0m\u001b[1;33m\u001b[0m\u001b[1;33m\u001b[0m\u001b[0m\n\u001b[0;32m    311\u001b[0m         \u001b[0mself\u001b[0m\u001b[1;33m.\u001b[0m\u001b[0m_transfer_params_to_java\u001b[0m\u001b[1;33m(\u001b[0m\u001b[1;33m)\u001b[0m\u001b[1;33m\u001b[0m\u001b[1;33m\u001b[0m\u001b[0m\n\u001b[1;32m--> 312\u001b[1;33m         \u001b[1;32mreturn\u001b[0m \u001b[0mDataFrame\u001b[0m\u001b[1;33m(\u001b[0m\u001b[0mself\u001b[0m\u001b[1;33m.\u001b[0m\u001b[0m_java_obj\u001b[0m\u001b[1;33m.\u001b[0m\u001b[0mtransform\u001b[0m\u001b[1;33m(\u001b[0m\u001b[0mdataset\u001b[0m\u001b[1;33m.\u001b[0m\u001b[0m_jdf\u001b[0m\u001b[1;33m)\u001b[0m\u001b[1;33m,\u001b[0m \u001b[0mdataset\u001b[0m\u001b[1;33m.\u001b[0m\u001b[0msql_ctx\u001b[0m\u001b[1;33m)\u001b[0m\u001b[1;33m\u001b[0m\u001b[1;33m\u001b[0m\u001b[0m\n\u001b[0m\u001b[0;32m    313\u001b[0m \u001b[1;33m\u001b[0m\u001b[0m\n\u001b[0;32m    314\u001b[0m \u001b[1;33m\u001b[0m\u001b[0m\n",
      "\u001b[1;32m~\\anaconda3\\lib\\site-packages\\py4j\\java_gateway.py\u001b[0m in \u001b[0;36m__call__\u001b[1;34m(self, *args)\u001b[0m\n\u001b[0;32m   1255\u001b[0m         \u001b[0manswer\u001b[0m \u001b[1;33m=\u001b[0m \u001b[0mself\u001b[0m\u001b[1;33m.\u001b[0m\u001b[0mgateway_client\u001b[0m\u001b[1;33m.\u001b[0m\u001b[0msend_command\u001b[0m\u001b[1;33m(\u001b[0m\u001b[0mcommand\u001b[0m\u001b[1;33m)\u001b[0m\u001b[1;33m\u001b[0m\u001b[1;33m\u001b[0m\u001b[0m\n\u001b[0;32m   1256\u001b[0m         return_value = get_return_value(\n\u001b[1;32m-> 1257\u001b[1;33m             answer, self.gateway_client, self.target_id, self.name)\n\u001b[0m\u001b[0;32m   1258\u001b[0m \u001b[1;33m\u001b[0m\u001b[0m\n\u001b[0;32m   1259\u001b[0m         \u001b[1;32mfor\u001b[0m \u001b[0mtemp_arg\u001b[0m \u001b[1;32min\u001b[0m \u001b[0mtemp_args\u001b[0m\u001b[1;33m:\u001b[0m\u001b[1;33m\u001b[0m\u001b[1;33m\u001b[0m\u001b[0m\n",
      "\u001b[1;32m~\\anaconda3\\lib\\site-packages\\pyspark\\sql\\utils.py\u001b[0m in \u001b[0;36mdeco\u001b[1;34m(*a, **kw)\u001b[0m\n\u001b[0;32m     77\u001b[0m                 \u001b[1;32mraise\u001b[0m \u001b[0mQueryExecutionException\u001b[0m\u001b[1;33m(\u001b[0m\u001b[0ms\u001b[0m\u001b[1;33m.\u001b[0m\u001b[0msplit\u001b[0m\u001b[1;33m(\u001b[0m\u001b[1;34m': '\u001b[0m\u001b[1;33m,\u001b[0m \u001b[1;36m1\u001b[0m\u001b[1;33m)\u001b[0m\u001b[1;33m[\u001b[0m\u001b[1;36m1\u001b[0m\u001b[1;33m]\u001b[0m\u001b[1;33m,\u001b[0m \u001b[0mstackTrace\u001b[0m\u001b[1;33m)\u001b[0m\u001b[1;33m\u001b[0m\u001b[1;33m\u001b[0m\u001b[0m\n\u001b[0;32m     78\u001b[0m             \u001b[1;32mif\u001b[0m \u001b[0ms\u001b[0m\u001b[1;33m.\u001b[0m\u001b[0mstartswith\u001b[0m\u001b[1;33m(\u001b[0m\u001b[1;34m'java.lang.IllegalArgumentException: '\u001b[0m\u001b[1;33m)\u001b[0m\u001b[1;33m:\u001b[0m\u001b[1;33m\u001b[0m\u001b[1;33m\u001b[0m\u001b[0m\n\u001b[1;32m---> 79\u001b[1;33m                 \u001b[1;32mraise\u001b[0m \u001b[0mIllegalArgumentException\u001b[0m\u001b[1;33m(\u001b[0m\u001b[0ms\u001b[0m\u001b[1;33m.\u001b[0m\u001b[0msplit\u001b[0m\u001b[1;33m(\u001b[0m\u001b[1;34m': '\u001b[0m\u001b[1;33m,\u001b[0m \u001b[1;36m1\u001b[0m\u001b[1;33m)\u001b[0m\u001b[1;33m[\u001b[0m\u001b[1;36m1\u001b[0m\u001b[1;33m]\u001b[0m\u001b[1;33m,\u001b[0m \u001b[0mstackTrace\u001b[0m\u001b[1;33m)\u001b[0m\u001b[1;33m\u001b[0m\u001b[1;33m\u001b[0m\u001b[0m\n\u001b[0m\u001b[0;32m     80\u001b[0m             \u001b[1;32mraise\u001b[0m\u001b[1;33m\u001b[0m\u001b[1;33m\u001b[0m\u001b[0m\n\u001b[0;32m     81\u001b[0m     \u001b[1;32mreturn\u001b[0m \u001b[0mdeco\u001b[0m\u001b[1;33m\u001b[0m\u001b[1;33m\u001b[0m\u001b[0m\n",
      "\u001b[1;31mIllegalArgumentException\u001b[0m: \"requirement failed: Wrong or missing inputCols annotators in Stemmer_05ee9bbfb2e7.\\n\\nCurrent inputCols: description_clean. Dataset's columns:\\n(column_name=app_name,is_nlp_annotator=false)\\n(column_name=bundle,is_nlp_annotator=false)\\n(column_name=description,is_nlp_annotator=false)\\n(column_name=genres,is_nlp_annotator=false)\\n(column_name=os_platform,is_nlp_annotator=false)\\n(column_name=lang_code,is_nlp_annotator=false)\\n(column_name=description_clean,is_nlp_annotator=false).\\nMake sure such annotators exist in your pipeline, with the right output names and that they have following annotator types: token\""
     ]
    }
   ],
   "source": [
    "df_spark = stemmer.transform(df_spark)"
   ]
  },
  {
   "cell_type": "code",
   "execution_count": null,
   "metadata": {},
   "outputs": [],
   "source": []
  }
 ],
 "metadata": {
  "kernelspec": {
   "display_name": "Python 3",
   "language": "python",
   "name": "python3"
  },
  "language_info": {
   "codemirror_mode": {
    "name": "ipython",
    "version": 3
   },
   "file_extension": ".py",
   "mimetype": "text/x-python",
   "name": "python",
   "nbconvert_exporter": "python",
   "pygments_lexer": "ipython3",
   "version": "3.7.6"
  }
 },
 "nbformat": 4,
 "nbformat_minor": 4
}
